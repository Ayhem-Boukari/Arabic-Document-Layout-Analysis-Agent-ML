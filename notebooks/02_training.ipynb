{
 "cells": [
  {
   "cell_type": "markdown",
   "id": "80f2940e",
   "metadata": {},
   "source": [
    "# 02 - Training\n",
    "Train YOLOv8 models for document layout detection."
   ]
  },
  {
   "cell_type": "code",
   "execution_count": null,
   "id": "86449379",
   "metadata": {},
   "outputs": [],
   "source": [
    "from ultralytics import YOLO\n",
    "print('Notebook scaffold - add training code here')"
   ]
  },
  {
   "cell_type": "markdown",
   "id": "b9c1ff84",
   "metadata": {},
   "source": [
    "# Training with Ultralytics YOLOv8\n",
    "The next cell contains the exact code used for training from `src/train.py`, imported-ready and runnable from the notebook."
   ]
  },
  {
   "cell_type": "code",
   "execution_count": null,
   "id": "8c7e6ece",
   "metadata": {},
   "outputs": [],
   "source": [
    "# src/train.py content\n",
    "from pathlib import Path\n",
    "from ultralytics import YOLO\n",
    "\n",
    "# If running from notebook, adjust import path if needed\n",
    "try:\n",
    "    from src.config import TrainConfig, Paths\n",
    "except Exception:\n",
    "    import sys\n",
    "    sys.path.append('.')\n",
    "    from src.config import TrainConfig, Paths\n",
    "\n",
    "\n",
    "def train(cfg: TrainConfig = TrainConfig()):\n",
    "    model = YOLO(cfg.model)\n",
    "    results = model.train(\n",
    "        data=cfg.data_yaml,\n",
    "        imgsz=cfg.imgsz,\n",
    "        epochs=cfg.epochs,\n",
    "        batch=cfg.batch,\n",
    "        lr0=cfg.lr0,\n",
    "        device=cfg.device,\n",
    "        patience=cfg.patience,\n",
    "        project=str(Paths.results_dir),\n",
    "        name=\"train\",\n",
    "    )\n",
    "    return results\n",
    "\n",
    "# Example usage from the notebook:\n",
    "# results = train()\n",
    "# results"
   ]
  }
 ],
 "metadata": {
  "language_info": {
   "name": "python"
  }
 },
 "nbformat": 4,
 "nbformat_minor": 5
}
